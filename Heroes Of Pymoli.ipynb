{
 "cells": [
  {
   "cell_type": "markdown",
   "metadata": {},
   "source": [
    "# Heroes Of Pymoli Data Analysis\n",
    "\n",
    "- There are 576 total players. The top spender spent $18.96 on total purchases\n",
    "- On average females spent more on total purchases than males. Females spent \\\\$4.47, while males spent \\\\$4.07\n",
    "- There is a total of 183 unique items available for sale, with the most popular being \"Oathbreaker, Last Hope of the Breaking Storm\" with 12 total purchases and a total purchase value of \\\\$50.76"
   ]
  },
  {
   "cell_type": "code",
   "execution_count": 1,
   "metadata": {},
   "outputs": [],
   "source": [
    "# Dependencies\n",
    "import pandas as pd\n",
    "import numpy as np"
   ]
  },
  {
   "cell_type": "code",
   "execution_count": 2,
   "metadata": {},
   "outputs": [],
   "source": [
    "# File to load\n",
    "data_file = \"Downloads/purchase_data.csv\""
   ]
  },
  {
   "cell_type": "code",
   "execution_count": 3,
   "metadata": {},
   "outputs": [
    {
     "data": {
      "text/html": [
       "<div>\n",
       "<style scoped>\n",
       "    .dataframe tbody tr th:only-of-type {\n",
       "        vertical-align: middle;\n",
       "    }\n",
       "\n",
       "    .dataframe tbody tr th {\n",
       "        vertical-align: top;\n",
       "    }\n",
       "\n",
       "    .dataframe thead th {\n",
       "        text-align: right;\n",
       "    }\n",
       "</style>\n",
       "<table border=\"1\" class=\"dataframe\">\n",
       "  <thead>\n",
       "    <tr style=\"text-align: right;\">\n",
       "      <th></th>\n",
       "      <th>Purchase ID</th>\n",
       "      <th>SN</th>\n",
       "      <th>Age</th>\n",
       "      <th>Gender</th>\n",
       "      <th>Item ID</th>\n",
       "      <th>Item Name</th>\n",
       "      <th>Price</th>\n",
       "    </tr>\n",
       "  </thead>\n",
       "  <tbody>\n",
       "    <tr>\n",
       "      <th>0</th>\n",
       "      <td>0</td>\n",
       "      <td>Lisim78</td>\n",
       "      <td>20</td>\n",
       "      <td>Male</td>\n",
       "      <td>108</td>\n",
       "      <td>Extraction, Quickblade Of Trembling Hands</td>\n",
       "      <td>3.53</td>\n",
       "    </tr>\n",
       "    <tr>\n",
       "      <th>1</th>\n",
       "      <td>1</td>\n",
       "      <td>Lisovynya38</td>\n",
       "      <td>40</td>\n",
       "      <td>Male</td>\n",
       "      <td>143</td>\n",
       "      <td>Frenzied Scimitar</td>\n",
       "      <td>1.56</td>\n",
       "    </tr>\n",
       "    <tr>\n",
       "      <th>2</th>\n",
       "      <td>2</td>\n",
       "      <td>Ithergue48</td>\n",
       "      <td>24</td>\n",
       "      <td>Male</td>\n",
       "      <td>92</td>\n",
       "      <td>Final Critic</td>\n",
       "      <td>4.88</td>\n",
       "    </tr>\n",
       "    <tr>\n",
       "      <th>3</th>\n",
       "      <td>3</td>\n",
       "      <td>Chamassasya86</td>\n",
       "      <td>24</td>\n",
       "      <td>Male</td>\n",
       "      <td>100</td>\n",
       "      <td>Blindscythe</td>\n",
       "      <td>3.27</td>\n",
       "    </tr>\n",
       "    <tr>\n",
       "      <th>4</th>\n",
       "      <td>4</td>\n",
       "      <td>Iskosia90</td>\n",
       "      <td>23</td>\n",
       "      <td>Male</td>\n",
       "      <td>131</td>\n",
       "      <td>Fury</td>\n",
       "      <td>1.44</td>\n",
       "    </tr>\n",
       "  </tbody>\n",
       "</table>\n",
       "</div>"
      ],
      "text/plain": [
       "   Purchase ID             SN  Age Gender  Item ID  \\\n",
       "0            0        Lisim78   20   Male      108   \n",
       "1            1    Lisovynya38   40   Male      143   \n",
       "2            2     Ithergue48   24   Male       92   \n",
       "3            3  Chamassasya86   24   Male      100   \n",
       "4            4      Iskosia90   23   Male      131   \n",
       "\n",
       "                                   Item Name  Price  \n",
       "0  Extraction, Quickblade Of Trembling Hands   3.53  \n",
       "1                          Frenzied Scimitar   1.56  \n",
       "2                               Final Critic   4.88  \n",
       "3                                Blindscythe   3.27  \n",
       "4                                       Fury   1.44  "
      ]
     },
     "execution_count": 3,
     "metadata": {},
     "output_type": "execute_result"
    }
   ],
   "source": [
    "# Use Pandas to read data\n",
    "purchase_data = pd.read_csv(data_file)\n",
    "purchase_data.head()"
   ]
  },
  {
   "cell_type": "markdown",
   "metadata": {},
   "source": [
    "## Player Count"
   ]
  },
  {
   "cell_type": "code",
   "execution_count": 4,
   "metadata": {},
   "outputs": [],
   "source": [
    "# Get count of unique players\n",
    "player_unique = purchase_data[\"SN\"].nunique()"
   ]
  },
  {
   "cell_type": "code",
   "execution_count": 5,
   "metadata": {},
   "outputs": [
    {
     "data": {
      "text/html": [
       "<div>\n",
       "<style scoped>\n",
       "    .dataframe tbody tr th:only-of-type {\n",
       "        vertical-align: middle;\n",
       "    }\n",
       "\n",
       "    .dataframe tbody tr th {\n",
       "        vertical-align: top;\n",
       "    }\n",
       "\n",
       "    .dataframe thead th {\n",
       "        text-align: right;\n",
       "    }\n",
       "</style>\n",
       "<table border=\"1\" class=\"dataframe\">\n",
       "  <thead>\n",
       "    <tr style=\"text-align: right;\">\n",
       "      <th></th>\n",
       "      <th>Total Players</th>\n",
       "    </tr>\n",
       "  </thead>\n",
       "  <tbody>\n",
       "    <tr>\n",
       "      <th>0</th>\n",
       "      <td>576</td>\n",
       "    </tr>\n",
       "  </tbody>\n",
       "</table>\n",
       "</div>"
      ],
      "text/plain": [
       "   Total Players\n",
       "0            576"
      ]
     },
     "execution_count": 5,
     "metadata": {},
     "output_type": "execute_result"
    }
   ],
   "source": [
    "# Create data frame with total player count\n",
    "new_data= pd.DataFrame({\"Total Players\" : [player_unique]})\n",
    "new_data"
   ]
  },
  {
   "cell_type": "markdown",
   "metadata": {},
   "source": [
    "##  Purchasing Analysis (Total)"
   ]
  },
  {
   "cell_type": "code",
   "execution_count": 6,
   "metadata": {},
   "outputs": [],
   "source": [
    "# Number of Unique Items\n",
    "item_unique = purchase_data[\"Item ID\"].nunique()\n",
    "\n",
    "# Average Price\n",
    "avg_price = purchase_data[\"Price\"].mean()\n",
    "\n",
    "# Number of Purchases\n",
    "purchase_count = purchase_data[\"Purchase ID\"].count()\n",
    "\n",
    "# Total Revenue\n",
    "revenue = purchase_data[\"Price\"].sum()\n"
   ]
  },
  {
   "cell_type": "code",
   "execution_count": 7,
   "metadata": {},
   "outputs": [
    {
     "data": {
      "text/html": [
       "<div>\n",
       "<style scoped>\n",
       "    .dataframe tbody tr th:only-of-type {\n",
       "        vertical-align: middle;\n",
       "    }\n",
       "\n",
       "    .dataframe tbody tr th {\n",
       "        vertical-align: top;\n",
       "    }\n",
       "\n",
       "    .dataframe thead th {\n",
       "        text-align: right;\n",
       "    }\n",
       "</style>\n",
       "<table border=\"1\" class=\"dataframe\">\n",
       "  <thead>\n",
       "    <tr style=\"text-align: right;\">\n",
       "      <th></th>\n",
       "      <th>Number of Unique Items</th>\n",
       "      <th>Average Price</th>\n",
       "      <th>Number of Purchases</th>\n",
       "      <th>Total Revenue</th>\n",
       "    </tr>\n",
       "  </thead>\n",
       "  <tbody>\n",
       "    <tr>\n",
       "      <th>0</th>\n",
       "      <td>183</td>\n",
       "      <td>$3.05</td>\n",
       "      <td>780</td>\n",
       "      <td>$2,379.77</td>\n",
       "    </tr>\n",
       "  </tbody>\n",
       "</table>\n",
       "</div>"
      ],
      "text/plain": [
       "   Number of Unique Items Average Price  Number of Purchases Total Revenue\n",
       "0                     183         $3.05                  780     $2,379.77"
      ]
     },
     "execution_count": 7,
     "metadata": {},
     "output_type": "execute_result"
    }
   ],
   "source": [
    "# Place Purchasing Analysis data into a summary DataFrame\n",
    "summary_table = pd.DataFrame({\"Number of Unique Items\": [item_unique],\n",
    "                             \"Average Price\": [avg_price],\n",
    "                             \"Number of Purchases\": [purchase_count],\n",
    "                             \"Total Revenue\": [revenue]})\n",
    "\n",
    "# Convert \"Average Price\" and \"Total Revenue\" to float and format to 2 decimal places\n",
    "summary_table[\"Average Price\"] = summary_table[\"Average Price\"].astype(float).map(\"${:,.2f}\".format)\n",
    "summary_table[\"Total Revenue\"] = summary_table[\"Total Revenue\"].astype(float).map(\"${:,.2f}\".format)\n",
    "\n",
    "summary_table\n"
   ]
  },
  {
   "cell_type": "markdown",
   "metadata": {},
   "source": [
    "##  Gender Demographics"
   ]
  },
  {
   "cell_type": "code",
   "execution_count": 8,
   "metadata": {},
   "outputs": [
    {
     "data": {
      "text/html": [
       "<style  type=\"text/css\" >\n",
       "</style><table id=\"T_59feceb4_d829_11e9_aaf9_c6a588836435\" ><thead>    <tr>        <th class=\"blank level0\" ></th>        <th class=\"col_heading level0 col0\" >Total Count</th>        <th class=\"col_heading level0 col1\" >Percentage of Players</th>    </tr>    <tr>        <th class=\"index_name level0\" >Gender</th>        <th class=\"blank\" ></th>        <th class=\"blank\" ></th>    </tr></thead><tbody>\n",
       "                <tr>\n",
       "                        <th id=\"T_59feceb4_d829_11e9_aaf9_c6a588836435level0_row0\" class=\"row_heading level0 row0\" >Male</th>\n",
       "                        <td id=\"T_59feceb4_d829_11e9_aaf9_c6a588836435row0_col0\" class=\"data row0 col0\" >484</td>\n",
       "                        <td id=\"T_59feceb4_d829_11e9_aaf9_c6a588836435row0_col1\" class=\"data row0 col1\" >84.03%</td>\n",
       "            </tr>\n",
       "            <tr>\n",
       "                        <th id=\"T_59feceb4_d829_11e9_aaf9_c6a588836435level0_row1\" class=\"row_heading level0 row1\" >Female</th>\n",
       "                        <td id=\"T_59feceb4_d829_11e9_aaf9_c6a588836435row1_col0\" class=\"data row1 col0\" >81</td>\n",
       "                        <td id=\"T_59feceb4_d829_11e9_aaf9_c6a588836435row1_col1\" class=\"data row1 col1\" >14.06%</td>\n",
       "            </tr>\n",
       "            <tr>\n",
       "                        <th id=\"T_59feceb4_d829_11e9_aaf9_c6a588836435level0_row2\" class=\"row_heading level0 row2\" >Other / Non-Disclosed</th>\n",
       "                        <td id=\"T_59feceb4_d829_11e9_aaf9_c6a588836435row2_col0\" class=\"data row2 col0\" >11</td>\n",
       "                        <td id=\"T_59feceb4_d829_11e9_aaf9_c6a588836435row2_col1\" class=\"data row2 col1\" >1.91%</td>\n",
       "            </tr>\n",
       "    </tbody></table>"
      ],
      "text/plain": [
       "<pandas.io.formats.style.Styler at 0x1e13bf4ca58>"
      ]
     },
     "execution_count": 8,
     "metadata": {},
     "output_type": "execute_result"
    }
   ],
   "source": [
    "# Calculate totals for each\n",
    "gender_total = purchase_data[\"SN\"].nunique()\n",
    "male_count = purchase_data[purchase_data[\"Gender\"] == \"Male\"][\"SN\"].nunique()\n",
    "female_count = purchase_data[purchase_data[\"Gender\"] == \"Female\"][\"SN\"].nunique()\n",
    "other_count = gender_total - male_count - female_count\n",
    "\n",
    "# Calcualte percentage for each\n",
    "male_percent = ((male_count/gender_total)*100)\n",
    "female_percent = ((female_count/gender_total)*100)\n",
    "other_percent = ((other_count/gender_total)*100)\n",
    "\n",
    "# Place Gender Demographic data into a summary DataFrame\n",
    "gender_summary = pd.DataFrame({\"Gender\": [\"Male\", \"Female\", \"Other / Non-Disclosed\"],\n",
    "                               \"Total Count\": [male_count, female_count, other_count],\n",
    "                               \"Percentage of Players\": [male_percent, female_percent, other_percent]},\n",
    "                              columns = [\"Gender\", \"Total Count\", \"Percentage of Players\"])\n",
    "\n",
    "# Set Gender as index                                        \n",
    "gender_summary = gender_summary.set_index(\"Gender\")\n",
    "\n",
    "# Convert \"Percentage of Players\" to float and format to 2 decimal places\n",
    "gender_summary.style.format({\"Percentage of Players\": \"{:.2f}%\"})"
   ]
  },
  {
   "cell_type": "markdown",
   "metadata": {},
   "source": [
    "##  Purchasing Analysis (Gender)"
   ]
  },
  {
   "cell_type": "code",
   "execution_count": 9,
   "metadata": {},
   "outputs": [
    {
     "data": {
      "text/html": [
       "<style  type=\"text/css\" >\n",
       "</style><table id=\"T_5ccf00ee_d829_11e9_842e_c6a588836435\" ><thead>    <tr>        <th class=\"blank level0\" ></th>        <th class=\"col_heading level0 col0\" >Purchase Count</th>        <th class=\"col_heading level0 col1\" >Average Purchase Price</th>        <th class=\"col_heading level0 col2\" >Total Purchase Value</th>        <th class=\"col_heading level0 col3\" >Avg Total Purchase per Person</th>    </tr>    <tr>        <th class=\"index_name level0\" >Gender</th>        <th class=\"blank\" ></th>        <th class=\"blank\" ></th>        <th class=\"blank\" ></th>        <th class=\"blank\" ></th>    </tr></thead><tbody>\n",
       "                <tr>\n",
       "                        <th id=\"T_5ccf00ee_d829_11e9_842e_c6a588836435level0_row0\" class=\"row_heading level0 row0\" >Male</th>\n",
       "                        <td id=\"T_5ccf00ee_d829_11e9_842e_c6a588836435row0_col0\" class=\"data row0 col0\" >652</td>\n",
       "                        <td id=\"T_5ccf00ee_d829_11e9_842e_c6a588836435row0_col1\" class=\"data row0 col1\" >$3.02</td>\n",
       "                        <td id=\"T_5ccf00ee_d829_11e9_842e_c6a588836435row0_col2\" class=\"data row0 col2\" >$1967.64</td>\n",
       "                        <td id=\"T_5ccf00ee_d829_11e9_842e_c6a588836435row0_col3\" class=\"data row0 col3\" >$4.07</td>\n",
       "            </tr>\n",
       "            <tr>\n",
       "                        <th id=\"T_5ccf00ee_d829_11e9_842e_c6a588836435level0_row1\" class=\"row_heading level0 row1\" >Female</th>\n",
       "                        <td id=\"T_5ccf00ee_d829_11e9_842e_c6a588836435row1_col0\" class=\"data row1 col0\" >113</td>\n",
       "                        <td id=\"T_5ccf00ee_d829_11e9_842e_c6a588836435row1_col1\" class=\"data row1 col1\" >$3.20</td>\n",
       "                        <td id=\"T_5ccf00ee_d829_11e9_842e_c6a588836435row1_col2\" class=\"data row1 col2\" >$361.94</td>\n",
       "                        <td id=\"T_5ccf00ee_d829_11e9_842e_c6a588836435row1_col3\" class=\"data row1 col3\" >$4.47</td>\n",
       "            </tr>\n",
       "            <tr>\n",
       "                        <th id=\"T_5ccf00ee_d829_11e9_842e_c6a588836435level0_row2\" class=\"row_heading level0 row2\" >Other / Non-Disclosed</th>\n",
       "                        <td id=\"T_5ccf00ee_d829_11e9_842e_c6a588836435row2_col0\" class=\"data row2 col0\" >15</td>\n",
       "                        <td id=\"T_5ccf00ee_d829_11e9_842e_c6a588836435row2_col1\" class=\"data row2 col1\" >$3.35</td>\n",
       "                        <td id=\"T_5ccf00ee_d829_11e9_842e_c6a588836435row2_col2\" class=\"data row2 col2\" >$50.19</td>\n",
       "                        <td id=\"T_5ccf00ee_d829_11e9_842e_c6a588836435row2_col3\" class=\"data row2 col3\" >$4.56</td>\n",
       "            </tr>\n",
       "    </tbody></table>"
      ],
      "text/plain": [
       "<pandas.io.formats.style.Styler at 0x1e13c549ac8>"
      ]
     },
     "execution_count": 9,
     "metadata": {},
     "output_type": "execute_result"
    }
   ],
   "source": [
    "# Calculate purchase count by gender\n",
    "male_purchase = purchase_data[purchase_data[\"Gender\"] == \"Male\"][\"Price\"].count()\n",
    "female_purchase = purchase_data[purchase_data[\"Gender\"] == \"Female\"][\"Price\"].count()\n",
    "other_purchase = purchase_data[purchase_data[\"Gender\"] == \"Other / Non-Disclosed\"][\"Price\"].count()\n",
    "\n",
    "# Calculate average purchase price \n",
    "m_avg_purchase = purchase_data[purchase_data[\"Gender\"] == \"Male\"][\"Price\"].mean()\n",
    "f_avg_purchase = purchase_data[purchase_data[\"Gender\"] == \"Female\"][\"Price\"].mean()\n",
    "o_avg_purchase = purchase_data[purchase_data[\"Gender\"] == \"Other / Non-Disclosed\"][\"Price\"].mean()\n",
    "\n",
    "# Calculate total purchase value\n",
    "m_tot_purchase = purchase_data[purchase_data[\"Gender\"] == \"Male\"][\"Price\"].sum()\n",
    "f_tot_purchase = purchase_data[purchase_data[\"Gender\"] == \"Female\"][\"Price\"].sum()\n",
    "o_tot_purchase = purchase_data[purchase_data[\"Gender\"] == \"Other / Non-Disclosed\"][\"Price\"].sum()\n",
    "\n",
    "# Calculate average total purchase per person\n",
    "m_avg_total = m_tot_purchase / male_count\n",
    "f_avg_total = f_tot_purchase / female_count\n",
    "o_avg_total = o_tot_purchase / other_count\n",
    "\n",
    "# Place analysis data into a summary DataFrame\n",
    "gender_purchase = pd.DataFrame({\"Gender\": [\"Male\", \"Female\", \"Other / Non-Disclosed\"], \"Purchase Count\": [male_purchase, female_purchase, other_purchase],\n",
    "                                \"Average Purchase Price\": [m_avg_purchase, f_avg_purchase, o_avg_purchase], \"Total Purchase Value\": [m_tot_purchase, f_tot_purchase, o_tot_purchase],\n",
    "                                \"Avg Total Purchase per Person\": [m_avg_total, f_avg_total, o_avg_total]},\n",
    "                               columns = [\"Gender\", \"Purchase Count\", \"Average Purchase Price\", \"Total Purchase Value\", \"Avg Total Purchase per Person\"])\n",
    "# Set gender as index                                        \n",
    "gender_purchase = gender_purchase.set_index(\"Gender\")\n",
    "\n",
    "# Convert values to float and format to 2 decimal places\n",
    "gender_purchase.style.format({\"Average Purchase Price\": \"${:.2f}\", \"Total Purchase Value\": \"${:.2f}\", \"Avg Total Purchase per Person\": \"${:.2f}\"})\n"
   ]
  },
  {
   "cell_type": "markdown",
   "metadata": {},
   "source": [
    "##  Age Demographics"
   ]
  },
  {
   "cell_type": "code",
   "execution_count": 10,
   "metadata": {},
   "outputs": [
    {
     "data": {
      "text/html": [
       "<style  type=\"text/css\" >\n",
       "</style><table id=\"T_5eb8a0f0_d829_11e9_9e9b_c6a588836435\" ><thead>    <tr>        <th class=\"blank level0\" ></th>        <th class=\"col_heading level0 col0\" >Total Count</th>        <th class=\"col_heading level0 col1\" >Percentage of Players</th>    </tr></thead><tbody>\n",
       "                <tr>\n",
       "                        <th id=\"T_5eb8a0f0_d829_11e9_9e9b_c6a588836435level0_row0\" class=\"row_heading level0 row0\" ><10</th>\n",
       "                        <td id=\"T_5eb8a0f0_d829_11e9_9e9b_c6a588836435row0_col0\" class=\"data row0 col0\" >17</td>\n",
       "                        <td id=\"T_5eb8a0f0_d829_11e9_9e9b_c6a588836435row0_col1\" class=\"data row0 col1\" >2.95%</td>\n",
       "            </tr>\n",
       "            <tr>\n",
       "                        <th id=\"T_5eb8a0f0_d829_11e9_9e9b_c6a588836435level0_row1\" class=\"row_heading level0 row1\" >10-14</th>\n",
       "                        <td id=\"T_5eb8a0f0_d829_11e9_9e9b_c6a588836435row1_col0\" class=\"data row1 col0\" >22</td>\n",
       "                        <td id=\"T_5eb8a0f0_d829_11e9_9e9b_c6a588836435row1_col1\" class=\"data row1 col1\" >3.82%</td>\n",
       "            </tr>\n",
       "            <tr>\n",
       "                        <th id=\"T_5eb8a0f0_d829_11e9_9e9b_c6a588836435level0_row2\" class=\"row_heading level0 row2\" >15-19</th>\n",
       "                        <td id=\"T_5eb8a0f0_d829_11e9_9e9b_c6a588836435row2_col0\" class=\"data row2 col0\" >107</td>\n",
       "                        <td id=\"T_5eb8a0f0_d829_11e9_9e9b_c6a588836435row2_col1\" class=\"data row2 col1\" >18.58%</td>\n",
       "            </tr>\n",
       "            <tr>\n",
       "                        <th id=\"T_5eb8a0f0_d829_11e9_9e9b_c6a588836435level0_row3\" class=\"row_heading level0 row3\" >20-24</th>\n",
       "                        <td id=\"T_5eb8a0f0_d829_11e9_9e9b_c6a588836435row3_col0\" class=\"data row3 col0\" >258</td>\n",
       "                        <td id=\"T_5eb8a0f0_d829_11e9_9e9b_c6a588836435row3_col1\" class=\"data row3 col1\" >44.79%</td>\n",
       "            </tr>\n",
       "            <tr>\n",
       "                        <th id=\"T_5eb8a0f0_d829_11e9_9e9b_c6a588836435level0_row4\" class=\"row_heading level0 row4\" >25-29</th>\n",
       "                        <td id=\"T_5eb8a0f0_d829_11e9_9e9b_c6a588836435row4_col0\" class=\"data row4 col0\" >77</td>\n",
       "                        <td id=\"T_5eb8a0f0_d829_11e9_9e9b_c6a588836435row4_col1\" class=\"data row4 col1\" >13.37%</td>\n",
       "            </tr>\n",
       "            <tr>\n",
       "                        <th id=\"T_5eb8a0f0_d829_11e9_9e9b_c6a588836435level0_row5\" class=\"row_heading level0 row5\" >30-34</th>\n",
       "                        <td id=\"T_5eb8a0f0_d829_11e9_9e9b_c6a588836435row5_col0\" class=\"data row5 col0\" >52</td>\n",
       "                        <td id=\"T_5eb8a0f0_d829_11e9_9e9b_c6a588836435row5_col1\" class=\"data row5 col1\" >9.03%</td>\n",
       "            </tr>\n",
       "            <tr>\n",
       "                        <th id=\"T_5eb8a0f0_d829_11e9_9e9b_c6a588836435level0_row6\" class=\"row_heading level0 row6\" >35-39</th>\n",
       "                        <td id=\"T_5eb8a0f0_d829_11e9_9e9b_c6a588836435row6_col0\" class=\"data row6 col0\" >31</td>\n",
       "                        <td id=\"T_5eb8a0f0_d829_11e9_9e9b_c6a588836435row6_col1\" class=\"data row6 col1\" >5.38%</td>\n",
       "            </tr>\n",
       "            <tr>\n",
       "                        <th id=\"T_5eb8a0f0_d829_11e9_9e9b_c6a588836435level0_row7\" class=\"row_heading level0 row7\" >40+</th>\n",
       "                        <td id=\"T_5eb8a0f0_d829_11e9_9e9b_c6a588836435row7_col0\" class=\"data row7 col0\" >12</td>\n",
       "                        <td id=\"T_5eb8a0f0_d829_11e9_9e9b_c6a588836435row7_col1\" class=\"data row7 col1\" >2.08%</td>\n",
       "            </tr>\n",
       "    </tbody></table>"
      ],
      "text/plain": [
       "<pandas.io.formats.style.Styler at 0x1e13cc70470>"
      ]
     },
     "execution_count": 10,
     "metadata": {},
     "output_type": "execute_result"
    }
   ],
   "source": [
    "# Create bins to place vales for ages\n",
    "bins =[0, 9.99, 14.99, 19.99, 24.99, 29.99, 34.99, 39.99, 99]\n",
    "\n",
    "# Create levels for bins\n",
    "group_labels = [\"<10\", \"10-14\", \"15-19\", \"20-24\", \"25-29\", \"30-34\", \"35-39\", \"40+\"]\n",
    "\n",
    "# Segment and sort age values\n",
    "purchase_data[\"Age Group\"] = pd.cut(purchase_data[\"Age\"], bins, labels=group_labels)\n",
    "purchase_data\n",
    "\n",
    "# Create new data frame\n",
    "age_group = purchase_data.groupby(\"Age Group\")\n",
    "\n",
    "# Calculate total count by age group\n",
    "count_age_group = age_group[\"SN\"].nunique()\n",
    "\n",
    "# Calculate percentages by age group \n",
    "percent_group = (count_age_group/player_unique) * 100\n",
    "\n",
    "# Place analysis data into a summary DataFrame\n",
    "age_demographics = pd.DataFrame({\"Total Count\": count_age_group, \"Percentage of Players\": percent_group})\n",
    "\n",
    "# Format to remove index\n",
    "age_demographics.index.name = None\n",
    "\n",
    "# Convert values to float and format to 2 decimal places \n",
    "age_demographics.style.format({\"Percentage of Players\": \"{:,.2f}%\"})"
   ]
  },
  {
   "cell_type": "markdown",
   "metadata": {},
   "source": [
    "##  Purchasing Analysis (Age)"
   ]
  },
  {
   "cell_type": "code",
   "execution_count": 11,
   "metadata": {},
   "outputs": [
    {
     "data": {
      "text/html": [
       "<style  type=\"text/css\" >\n",
       "</style><table id=\"T_60c407dc_d829_11e9_bd76_c6a588836435\" ><thead>    <tr>        <th class=\"blank level0\" ></th>        <th class=\"col_heading level0 col0\" >Purchase Count</th>        <th class=\"col_heading level0 col1\" >Average Purchase Price</th>        <th class=\"col_heading level0 col2\" >Total Purchase Value</th>        <th class=\"col_heading level0 col3\" >Avg Total Purchase per Person</th>    </tr></thead><tbody>\n",
       "                <tr>\n",
       "                        <th id=\"T_60c407dc_d829_11e9_bd76_c6a588836435level0_row0\" class=\"row_heading level0 row0\" ><10</th>\n",
       "                        <td id=\"T_60c407dc_d829_11e9_bd76_c6a588836435row0_col0\" class=\"data row0 col0\" >23</td>\n",
       "                        <td id=\"T_60c407dc_d829_11e9_bd76_c6a588836435row0_col1\" class=\"data row0 col1\" >$3.35</td>\n",
       "                        <td id=\"T_60c407dc_d829_11e9_bd76_c6a588836435row0_col2\" class=\"data row0 col2\" >$77.13</td>\n",
       "                        <td id=\"T_60c407dc_d829_11e9_bd76_c6a588836435row0_col3\" class=\"data row0 col3\" >$4.54</td>\n",
       "            </tr>\n",
       "            <tr>\n",
       "                        <th id=\"T_60c407dc_d829_11e9_bd76_c6a588836435level0_row1\" class=\"row_heading level0 row1\" >10-14</th>\n",
       "                        <td id=\"T_60c407dc_d829_11e9_bd76_c6a588836435row1_col0\" class=\"data row1 col0\" >28</td>\n",
       "                        <td id=\"T_60c407dc_d829_11e9_bd76_c6a588836435row1_col1\" class=\"data row1 col1\" >$2.96</td>\n",
       "                        <td id=\"T_60c407dc_d829_11e9_bd76_c6a588836435row1_col2\" class=\"data row1 col2\" >$82.78</td>\n",
       "                        <td id=\"T_60c407dc_d829_11e9_bd76_c6a588836435row1_col3\" class=\"data row1 col3\" >$3.76</td>\n",
       "            </tr>\n",
       "            <tr>\n",
       "                        <th id=\"T_60c407dc_d829_11e9_bd76_c6a588836435level0_row2\" class=\"row_heading level0 row2\" >15-19</th>\n",
       "                        <td id=\"T_60c407dc_d829_11e9_bd76_c6a588836435row2_col0\" class=\"data row2 col0\" >136</td>\n",
       "                        <td id=\"T_60c407dc_d829_11e9_bd76_c6a588836435row2_col1\" class=\"data row2 col1\" >$3.04</td>\n",
       "                        <td id=\"T_60c407dc_d829_11e9_bd76_c6a588836435row2_col2\" class=\"data row2 col2\" >$412.89</td>\n",
       "                        <td id=\"T_60c407dc_d829_11e9_bd76_c6a588836435row2_col3\" class=\"data row2 col3\" >$3.86</td>\n",
       "            </tr>\n",
       "            <tr>\n",
       "                        <th id=\"T_60c407dc_d829_11e9_bd76_c6a588836435level0_row3\" class=\"row_heading level0 row3\" >20-24</th>\n",
       "                        <td id=\"T_60c407dc_d829_11e9_bd76_c6a588836435row3_col0\" class=\"data row3 col0\" >365</td>\n",
       "                        <td id=\"T_60c407dc_d829_11e9_bd76_c6a588836435row3_col1\" class=\"data row3 col1\" >$3.05</td>\n",
       "                        <td id=\"T_60c407dc_d829_11e9_bd76_c6a588836435row3_col2\" class=\"data row3 col2\" >$1,114.06</td>\n",
       "                        <td id=\"T_60c407dc_d829_11e9_bd76_c6a588836435row3_col3\" class=\"data row3 col3\" >$4.32</td>\n",
       "            </tr>\n",
       "            <tr>\n",
       "                        <th id=\"T_60c407dc_d829_11e9_bd76_c6a588836435level0_row4\" class=\"row_heading level0 row4\" >25-29</th>\n",
       "                        <td id=\"T_60c407dc_d829_11e9_bd76_c6a588836435row4_col0\" class=\"data row4 col0\" >101</td>\n",
       "                        <td id=\"T_60c407dc_d829_11e9_bd76_c6a588836435row4_col1\" class=\"data row4 col1\" >$2.90</td>\n",
       "                        <td id=\"T_60c407dc_d829_11e9_bd76_c6a588836435row4_col2\" class=\"data row4 col2\" >$293.00</td>\n",
       "                        <td id=\"T_60c407dc_d829_11e9_bd76_c6a588836435row4_col3\" class=\"data row4 col3\" >$3.81</td>\n",
       "            </tr>\n",
       "            <tr>\n",
       "                        <th id=\"T_60c407dc_d829_11e9_bd76_c6a588836435level0_row5\" class=\"row_heading level0 row5\" >30-34</th>\n",
       "                        <td id=\"T_60c407dc_d829_11e9_bd76_c6a588836435row5_col0\" class=\"data row5 col0\" >73</td>\n",
       "                        <td id=\"T_60c407dc_d829_11e9_bd76_c6a588836435row5_col1\" class=\"data row5 col1\" >$2.93</td>\n",
       "                        <td id=\"T_60c407dc_d829_11e9_bd76_c6a588836435row5_col2\" class=\"data row5 col2\" >$214.00</td>\n",
       "                        <td id=\"T_60c407dc_d829_11e9_bd76_c6a588836435row5_col3\" class=\"data row5 col3\" >$4.12</td>\n",
       "            </tr>\n",
       "            <tr>\n",
       "                        <th id=\"T_60c407dc_d829_11e9_bd76_c6a588836435level0_row6\" class=\"row_heading level0 row6\" >35-39</th>\n",
       "                        <td id=\"T_60c407dc_d829_11e9_bd76_c6a588836435row6_col0\" class=\"data row6 col0\" >41</td>\n",
       "                        <td id=\"T_60c407dc_d829_11e9_bd76_c6a588836435row6_col1\" class=\"data row6 col1\" >$3.60</td>\n",
       "                        <td id=\"T_60c407dc_d829_11e9_bd76_c6a588836435row6_col2\" class=\"data row6 col2\" >$147.67</td>\n",
       "                        <td id=\"T_60c407dc_d829_11e9_bd76_c6a588836435row6_col3\" class=\"data row6 col3\" >$4.76</td>\n",
       "            </tr>\n",
       "            <tr>\n",
       "                        <th id=\"T_60c407dc_d829_11e9_bd76_c6a588836435level0_row7\" class=\"row_heading level0 row7\" >40+</th>\n",
       "                        <td id=\"T_60c407dc_d829_11e9_bd76_c6a588836435row7_col0\" class=\"data row7 col0\" >13</td>\n",
       "                        <td id=\"T_60c407dc_d829_11e9_bd76_c6a588836435row7_col1\" class=\"data row7 col1\" >$2.94</td>\n",
       "                        <td id=\"T_60c407dc_d829_11e9_bd76_c6a588836435row7_col2\" class=\"data row7 col2\" >$38.24</td>\n",
       "                        <td id=\"T_60c407dc_d829_11e9_bd76_c6a588836435row7_col3\" class=\"data row7 col3\" >$3.19</td>\n",
       "            </tr>\n",
       "    </tbody></table>"
      ],
      "text/plain": [
       "<pandas.io.formats.style.Styler at 0x1e13bf682e8>"
      ]
     },
     "execution_count": 11,
     "metadata": {},
     "output_type": "execute_result"
    }
   ],
   "source": [
    "# Calculate count purchases by age group\n",
    "age_purchase_count = age_group[\"Purchase ID\"].count()\n",
    "\n",
    "# Calculate average purchase price by age group\n",
    "avg_purchase_age = age_group[\"Price\"].mean()\n",
    "\n",
    "# Calculate total purchase value by age group \n",
    "total_purchase_value = age_group[\"Price\"].sum()\n",
    "\n",
    "# Calculate average total purchase per person\n",
    "avg_purchase_person = total_purchase_value/count_age_group\n",
    "\n",
    "# Place analysis data into a summary DataFrame\n",
    "age_analysis = pd.DataFrame({\"Purchase Count\": age_purchase_count,\n",
    "                                 \"Average Purchase Price\": avg_purchase_age,\n",
    "                                 \"Total Purchase Value\":total_purchase_value,\n",
    "                                 \"Avg Total Purchase per Person\": avg_purchase_person})\n",
    "\n",
    "# Format to remove index\n",
    "age_analysis.index.name = None\n",
    "\n",
    "# Convert values to float and format to 2 decimal places \n",
    "age_analysis.style.format({\"Average Purchase Price\":\"${:,.2f}\",\n",
    "                               \"Total Purchase Value\":\"${:,.2f}\",\n",
    "                               \"Avg Total Purchase per Person\":\"${:,.2f}\"})"
   ]
  },
  {
   "cell_type": "markdown",
   "metadata": {},
   "source": [
    "##  Top Spenders"
   ]
  },
  {
   "cell_type": "code",
   "execution_count": 12,
   "metadata": {},
   "outputs": [
    {
     "data": {
      "text/html": [
       "<style  type=\"text/css\" >\n",
       "</style><table id=\"T_626e38be_d829_11e9_b2a4_c6a588836435\" ><thead>    <tr>        <th class=\"blank level0\" ></th>        <th class=\"col_heading level0 col0\" >Purchase Count</th>        <th class=\"col_heading level0 col1\" >Average Purchase Price</th>        <th class=\"col_heading level0 col2\" >Total Purchase Value</th>    </tr>    <tr>        <th class=\"index_name level0\" >SN</th>        <th class=\"blank\" ></th>        <th class=\"blank\" ></th>        <th class=\"blank\" ></th>    </tr></thead><tbody>\n",
       "                <tr>\n",
       "                        <th id=\"T_626e38be_d829_11e9_b2a4_c6a588836435level0_row0\" class=\"row_heading level0 row0\" >Lisosia93</th>\n",
       "                        <td id=\"T_626e38be_d829_11e9_b2a4_c6a588836435row0_col0\" class=\"data row0 col0\" >5</td>\n",
       "                        <td id=\"T_626e38be_d829_11e9_b2a4_c6a588836435row0_col1\" class=\"data row0 col1\" >$3.79</td>\n",
       "                        <td id=\"T_626e38be_d829_11e9_b2a4_c6a588836435row0_col2\" class=\"data row0 col2\" >$18.96</td>\n",
       "            </tr>\n",
       "            <tr>\n",
       "                        <th id=\"T_626e38be_d829_11e9_b2a4_c6a588836435level0_row1\" class=\"row_heading level0 row1\" >Idastidru52</th>\n",
       "                        <td id=\"T_626e38be_d829_11e9_b2a4_c6a588836435row1_col0\" class=\"data row1 col0\" >4</td>\n",
       "                        <td id=\"T_626e38be_d829_11e9_b2a4_c6a588836435row1_col1\" class=\"data row1 col1\" >$3.86</td>\n",
       "                        <td id=\"T_626e38be_d829_11e9_b2a4_c6a588836435row1_col2\" class=\"data row1 col2\" >$15.45</td>\n",
       "            </tr>\n",
       "            <tr>\n",
       "                        <th id=\"T_626e38be_d829_11e9_b2a4_c6a588836435level0_row2\" class=\"row_heading level0 row2\" >Chamjask73</th>\n",
       "                        <td id=\"T_626e38be_d829_11e9_b2a4_c6a588836435row2_col0\" class=\"data row2 col0\" >3</td>\n",
       "                        <td id=\"T_626e38be_d829_11e9_b2a4_c6a588836435row2_col1\" class=\"data row2 col1\" >$4.61</td>\n",
       "                        <td id=\"T_626e38be_d829_11e9_b2a4_c6a588836435row2_col2\" class=\"data row2 col2\" >$13.83</td>\n",
       "            </tr>\n",
       "            <tr>\n",
       "                        <th id=\"T_626e38be_d829_11e9_b2a4_c6a588836435level0_row3\" class=\"row_heading level0 row3\" >Iral74</th>\n",
       "                        <td id=\"T_626e38be_d829_11e9_b2a4_c6a588836435row3_col0\" class=\"data row3 col0\" >4</td>\n",
       "                        <td id=\"T_626e38be_d829_11e9_b2a4_c6a588836435row3_col1\" class=\"data row3 col1\" >$3.40</td>\n",
       "                        <td id=\"T_626e38be_d829_11e9_b2a4_c6a588836435row3_col2\" class=\"data row3 col2\" >$13.62</td>\n",
       "            </tr>\n",
       "            <tr>\n",
       "                        <th id=\"T_626e38be_d829_11e9_b2a4_c6a588836435level0_row4\" class=\"row_heading level0 row4\" >Iskadarya95</th>\n",
       "                        <td id=\"T_626e38be_d829_11e9_b2a4_c6a588836435row4_col0\" class=\"data row4 col0\" >3</td>\n",
       "                        <td id=\"T_626e38be_d829_11e9_b2a4_c6a588836435row4_col1\" class=\"data row4 col1\" >$4.37</td>\n",
       "                        <td id=\"T_626e38be_d829_11e9_b2a4_c6a588836435row4_col2\" class=\"data row4 col2\" >$13.10</td>\n",
       "            </tr>\n",
       "    </tbody></table>"
      ],
      "text/plain": [
       "<pandas.io.formats.style.Styler at 0x1e13ccdff98>"
      ]
     },
     "execution_count": 12,
     "metadata": {},
     "output_type": "execute_result"
    }
   ],
   "source": [
    "# Group purchase data by SN\n",
    "spender_data = purchase_data.groupby(\"SN\")\n",
    "\n",
    "# Count the total purchases\n",
    "spender_purchase_count = spender_data[\"Purchase ID\"].count()\n",
    "\n",
    "# Calculate average purchase\n",
    "avg_purchase_spender = spender_data[\"Price\"].mean()\n",
    "\n",
    "# Calculate purchase total\n",
    "purchase_total_spender = spender_data[\"Price\"].sum()\n",
    "\n",
    "# Place analysis data into a summary DataFrame\n",
    "top_spenders = pd.DataFrame({\"Purchase Count\": spender_purchase_count,\n",
    "                             \"Average Purchase Price\": avg_purchase_spender,\n",
    "                             \"Total Purchase Value\":purchase_total_spender})\n",
    "\n",
    "# Sort values in descending order\n",
    "top_spenders = top_spenders.sort_values([\"Total Purchase Value\"], ascending=False).head()\n",
    "\n",
    "# Convert values to float and format to 2 decimal places \n",
    "top_spenders.style.format({\"Average Purchase Total\":\"${:,.2f}\",\n",
    "                                 \"Average Purchase Price\":\"${:,.2f}\", \n",
    "                                 \"Total Purchase Value\":\"${:,.2f}\"})"
   ]
  },
  {
   "cell_type": "markdown",
   "metadata": {},
   "source": [
    "##  Most Popular Items"
   ]
  },
  {
   "cell_type": "code",
   "execution_count": 13,
   "metadata": {},
   "outputs": [
    {
     "data": {
      "text/html": [
       "<style  type=\"text/css\" >\n",
       "</style><table id=\"T_64161c9e_d829_11e9_99c3_c6a588836435\" ><thead>    <tr>        <th class=\"blank\" ></th>        <th class=\"blank level0\" ></th>        <th class=\"col_heading level0 col0\" >Purchase Count</th>        <th class=\"col_heading level0 col1\" >Item Price</th>        <th class=\"col_heading level0 col2\" >Total Purchase Value</th>    </tr>    <tr>        <th class=\"index_name level0\" >Item ID</th>        <th class=\"index_name level1\" >Item Name</th>        <th class=\"blank\" ></th>        <th class=\"blank\" ></th>        <th class=\"blank\" ></th>    </tr></thead><tbody>\n",
       "                <tr>\n",
       "                        <th id=\"T_64161c9e_d829_11e9_99c3_c6a588836435level0_row0\" class=\"row_heading level0 row0\" >178</th>\n",
       "                        <th id=\"T_64161c9e_d829_11e9_99c3_c6a588836435level1_row0\" class=\"row_heading level1 row0\" >Oathbreaker, Last Hope of the Breaking Storm</th>\n",
       "                        <td id=\"T_64161c9e_d829_11e9_99c3_c6a588836435row0_col0\" class=\"data row0 col0\" >12</td>\n",
       "                        <td id=\"T_64161c9e_d829_11e9_99c3_c6a588836435row0_col1\" class=\"data row0 col1\" >$4.23</td>\n",
       "                        <td id=\"T_64161c9e_d829_11e9_99c3_c6a588836435row0_col2\" class=\"data row0 col2\" >$50.76</td>\n",
       "            </tr>\n",
       "            <tr>\n",
       "                        <th id=\"T_64161c9e_d829_11e9_99c3_c6a588836435level0_row1\" class=\"row_heading level0 row1\" >145</th>\n",
       "                        <th id=\"T_64161c9e_d829_11e9_99c3_c6a588836435level1_row1\" class=\"row_heading level1 row1\" >Fiery Glass Crusader</th>\n",
       "                        <td id=\"T_64161c9e_d829_11e9_99c3_c6a588836435row1_col0\" class=\"data row1 col0\" >9</td>\n",
       "                        <td id=\"T_64161c9e_d829_11e9_99c3_c6a588836435row1_col1\" class=\"data row1 col1\" >$4.58</td>\n",
       "                        <td id=\"T_64161c9e_d829_11e9_99c3_c6a588836435row1_col2\" class=\"data row1 col2\" >$41.22</td>\n",
       "            </tr>\n",
       "            <tr>\n",
       "                        <th id=\"T_64161c9e_d829_11e9_99c3_c6a588836435level0_row2\" class=\"row_heading level0 row2\" >108</th>\n",
       "                        <th id=\"T_64161c9e_d829_11e9_99c3_c6a588836435level1_row2\" class=\"row_heading level1 row2\" >Extraction, Quickblade Of Trembling Hands</th>\n",
       "                        <td id=\"T_64161c9e_d829_11e9_99c3_c6a588836435row2_col0\" class=\"data row2 col0\" >9</td>\n",
       "                        <td id=\"T_64161c9e_d829_11e9_99c3_c6a588836435row2_col1\" class=\"data row2 col1\" >$3.53</td>\n",
       "                        <td id=\"T_64161c9e_d829_11e9_99c3_c6a588836435row2_col2\" class=\"data row2 col2\" >$31.77</td>\n",
       "            </tr>\n",
       "            <tr>\n",
       "                        <th id=\"T_64161c9e_d829_11e9_99c3_c6a588836435level0_row3\" class=\"row_heading level0 row3\" >82</th>\n",
       "                        <th id=\"T_64161c9e_d829_11e9_99c3_c6a588836435level1_row3\" class=\"row_heading level1 row3\" >Nirvana</th>\n",
       "                        <td id=\"T_64161c9e_d829_11e9_99c3_c6a588836435row3_col0\" class=\"data row3 col0\" >9</td>\n",
       "                        <td id=\"T_64161c9e_d829_11e9_99c3_c6a588836435row3_col1\" class=\"data row3 col1\" >$4.90</td>\n",
       "                        <td id=\"T_64161c9e_d829_11e9_99c3_c6a588836435row3_col2\" class=\"data row3 col2\" >$44.10</td>\n",
       "            </tr>\n",
       "            <tr>\n",
       "                        <th id=\"T_64161c9e_d829_11e9_99c3_c6a588836435level0_row4\" class=\"row_heading level0 row4\" >19</th>\n",
       "                        <th id=\"T_64161c9e_d829_11e9_99c3_c6a588836435level1_row4\" class=\"row_heading level1 row4\" >Pursuit, Cudgel of Necromancy</th>\n",
       "                        <td id=\"T_64161c9e_d829_11e9_99c3_c6a588836435row4_col0\" class=\"data row4 col0\" >8</td>\n",
       "                        <td id=\"T_64161c9e_d829_11e9_99c3_c6a588836435row4_col1\" class=\"data row4 col1\" >$1.02</td>\n",
       "                        <td id=\"T_64161c9e_d829_11e9_99c3_c6a588836435row4_col2\" class=\"data row4 col2\" >$8.16</td>\n",
       "            </tr>\n",
       "    </tbody></table>"
      ],
      "text/plain": [
       "<pandas.io.formats.style.Styler at 0x1e13ccee860>"
      ]
     },
     "execution_count": 13,
     "metadata": {},
     "output_type": "execute_result"
    }
   ],
   "source": [
    "# Create new data frame\n",
    "item_names = purchase_data[[\"Item ID\", \"Item Name\", \"Price\"]]\n",
    "\n",
    "# Group the item data by ID and Name\n",
    "item_data = item_names.groupby([\"Item ID\",\"Item Name\"])\n",
    "\n",
    "# Calculate count of purchases per item\n",
    "purchase_count_item = item_data[\"Price\"].count()\n",
    "\n",
    "# Calcualte purchase value per item \n",
    "purchase_value = (item_data[\"Price\"].sum())\n",
    "\n",
    "# Calculate individual item price\n",
    "item_price = purchase_value/purchase_count_item\n",
    "\n",
    "# Place analysis data into a summary DataFrame\n",
    "most_popular = pd.DataFrame({\"Purchase Count\": purchase_count_item, \n",
    "                                   \"Item Price\": item_price,\n",
    "                                   \"Total Purchase Value\":purchase_value})\n",
    "\n",
    "# Sort values in descending order\n",
    "most_popular_purchase = most_popular.sort_values([\"Purchase Count\"], ascending=False).head()\n",
    "\n",
    "# Convert values to float and format to 2 decimal places\n",
    "most_popular_purchase.style.format({\"Item Price\":\"${:,.2f}\",\n",
    "                                \"Total Purchase Value\":\"${:,.2f}\"})"
   ]
  },
  {
   "cell_type": "markdown",
   "metadata": {},
   "source": [
    "## Most Profitable Items"
   ]
  },
  {
   "cell_type": "code",
   "execution_count": 14,
   "metadata": {},
   "outputs": [
    {
     "data": {
      "text/html": [
       "<style  type=\"text/css\" >\n",
       "</style><table id=\"T_658857ba_d829_11e9_bcbc_c6a588836435\" ><thead>    <tr>        <th class=\"blank\" ></th>        <th class=\"blank level0\" ></th>        <th class=\"col_heading level0 col0\" >Purchase Count</th>        <th class=\"col_heading level0 col1\" >Item Price</th>        <th class=\"col_heading level0 col2\" >Total Purchase Value</th>    </tr>    <tr>        <th class=\"index_name level0\" >Item ID</th>        <th class=\"index_name level1\" >Item Name</th>        <th class=\"blank\" ></th>        <th class=\"blank\" ></th>        <th class=\"blank\" ></th>    </tr></thead><tbody>\n",
       "                <tr>\n",
       "                        <th id=\"T_658857ba_d829_11e9_bcbc_c6a588836435level0_row0\" class=\"row_heading level0 row0\" >178</th>\n",
       "                        <th id=\"T_658857ba_d829_11e9_bcbc_c6a588836435level1_row0\" class=\"row_heading level1 row0\" >Oathbreaker, Last Hope of the Breaking Storm</th>\n",
       "                        <td id=\"T_658857ba_d829_11e9_bcbc_c6a588836435row0_col0\" class=\"data row0 col0\" >12</td>\n",
       "                        <td id=\"T_658857ba_d829_11e9_bcbc_c6a588836435row0_col1\" class=\"data row0 col1\" >$4.23</td>\n",
       "                        <td id=\"T_658857ba_d829_11e9_bcbc_c6a588836435row0_col2\" class=\"data row0 col2\" >$50.76</td>\n",
       "            </tr>\n",
       "            <tr>\n",
       "                        <th id=\"T_658857ba_d829_11e9_bcbc_c6a588836435level0_row1\" class=\"row_heading level0 row1\" >82</th>\n",
       "                        <th id=\"T_658857ba_d829_11e9_bcbc_c6a588836435level1_row1\" class=\"row_heading level1 row1\" >Nirvana</th>\n",
       "                        <td id=\"T_658857ba_d829_11e9_bcbc_c6a588836435row1_col0\" class=\"data row1 col0\" >9</td>\n",
       "                        <td id=\"T_658857ba_d829_11e9_bcbc_c6a588836435row1_col1\" class=\"data row1 col1\" >$4.90</td>\n",
       "                        <td id=\"T_658857ba_d829_11e9_bcbc_c6a588836435row1_col2\" class=\"data row1 col2\" >$44.10</td>\n",
       "            </tr>\n",
       "            <tr>\n",
       "                        <th id=\"T_658857ba_d829_11e9_bcbc_c6a588836435level0_row2\" class=\"row_heading level0 row2\" >145</th>\n",
       "                        <th id=\"T_658857ba_d829_11e9_bcbc_c6a588836435level1_row2\" class=\"row_heading level1 row2\" >Fiery Glass Crusader</th>\n",
       "                        <td id=\"T_658857ba_d829_11e9_bcbc_c6a588836435row2_col0\" class=\"data row2 col0\" >9</td>\n",
       "                        <td id=\"T_658857ba_d829_11e9_bcbc_c6a588836435row2_col1\" class=\"data row2 col1\" >$4.58</td>\n",
       "                        <td id=\"T_658857ba_d829_11e9_bcbc_c6a588836435row2_col2\" class=\"data row2 col2\" >$41.22</td>\n",
       "            </tr>\n",
       "            <tr>\n",
       "                        <th id=\"T_658857ba_d829_11e9_bcbc_c6a588836435level0_row3\" class=\"row_heading level0 row3\" >92</th>\n",
       "                        <th id=\"T_658857ba_d829_11e9_bcbc_c6a588836435level1_row3\" class=\"row_heading level1 row3\" >Final Critic</th>\n",
       "                        <td id=\"T_658857ba_d829_11e9_bcbc_c6a588836435row3_col0\" class=\"data row3 col0\" >8</td>\n",
       "                        <td id=\"T_658857ba_d829_11e9_bcbc_c6a588836435row3_col1\" class=\"data row3 col1\" >$4.88</td>\n",
       "                        <td id=\"T_658857ba_d829_11e9_bcbc_c6a588836435row3_col2\" class=\"data row3 col2\" >$39.04</td>\n",
       "            </tr>\n",
       "            <tr>\n",
       "                        <th id=\"T_658857ba_d829_11e9_bcbc_c6a588836435level0_row4\" class=\"row_heading level0 row4\" >103</th>\n",
       "                        <th id=\"T_658857ba_d829_11e9_bcbc_c6a588836435level1_row4\" class=\"row_heading level1 row4\" >Singed Scalpel</th>\n",
       "                        <td id=\"T_658857ba_d829_11e9_bcbc_c6a588836435row4_col0\" class=\"data row4 col0\" >8</td>\n",
       "                        <td id=\"T_658857ba_d829_11e9_bcbc_c6a588836435row4_col1\" class=\"data row4 col1\" >$4.35</td>\n",
       "                        <td id=\"T_658857ba_d829_11e9_bcbc_c6a588836435row4_col2\" class=\"data row4 col2\" >$34.80</td>\n",
       "            </tr>\n",
       "    </tbody></table>"
      ],
      "text/plain": [
       "<pandas.io.formats.style.Styler at 0x1e13bf5cf28>"
      ]
     },
     "execution_count": 14,
     "metadata": {},
     "output_type": "execute_result"
    }
   ],
   "source": [
    "# Sort \"Total Purchase Value\" in descending order\n",
    "most_popular = most_popular.sort_values([\"Total Purchase Value\"], ascending=False).head()\n",
    "\n",
    "# Convert values to float and format to 2 decimal places\n",
    "most_popular.style.format({\"Item Price\":\"${:,.2f}\",\n",
    "                                \"Total Purchase Value\":\"${:,.2f}\"})"
   ]
  },
  {
   "cell_type": "code",
   "execution_count": null,
   "metadata": {},
   "outputs": [],
   "source": []
  }
 ],
 "metadata": {
  "kernelspec": {
   "display_name": "Python 3",
   "language": "python",
   "name": "python3"
  },
  "language_info": {
   "codemirror_mode": {
    "name": "ipython",
    "version": 3
   },
   "file_extension": ".py",
   "mimetype": "text/x-python",
   "name": "python",
   "nbconvert_exporter": "python",
   "pygments_lexer": "ipython3",
   "version": "3.7.3"
  }
 },
 "nbformat": 4,
 "nbformat_minor": 2
}
